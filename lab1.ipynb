{
 "cells": [
  {
   "cell_type": "markdown",
   "id": "aed61a6e",
   "metadata": {},
   "source": [
    "1. Поработайте с переменными, создайте несколько, выведите на экран. Запросите у пользователя некоторые числа и строки и сохраните в переменные, затем выведите на экран."
   ]
  },
  {
   "cell_type": "code",
   "execution_count": 2,
   "id": "767dafb5",
   "metadata": {},
   "outputs": [
    {
     "name": "stdout",
     "output_type": "stream",
     "text": [
      "Введите ваше имя: asdwa\n",
      "Введите ваш возраст: 23\n",
      "asdwa, вам 23.\n"
     ]
    }
   ],
   "source": [
    "name = input(\"Введите ваше имя: \")\n",
    "age = int(input(\"Введите ваш возраст: \"))\n",
    "print(\"{0}, вам {1}.\".format(name,age))"
   ]
  },
  {
   "cell_type": "markdown",
   "id": "de1ee7a3",
   "metadata": {},
   "source": [
    "2. Пользователь вводит время в секундах. Переведите время в часы, минуты, секунды и выведите в формате чч:мм:сс. Используйте форматирование строк."
   ]
  },
  {
   "cell_type": "code",
   "execution_count": 10,
   "id": "bbd66d0c",
   "metadata": {},
   "outputs": [
    {
     "name": "stdout",
     "output_type": "stream",
     "text": [
      "1241\n",
      "0:20:41\n"
     ]
    }
   ],
   "source": [
    "seconds = int(input())\n",
    "\n",
    "h = seconds // 3600\n",
    "minut = (seconds - h * 3600) // 60\n",
    "sec = seconds - (h * 3600 + minut * 60)\n",
    "\n",
    "print(\"{0}:{1}:{2}\".format(h,minut,sec))"
   ]
  },
  {
   "cell_type": "markdown",
   "id": "4097917c",
   "metadata": {},
   "source": [
    "3. Узнайте у пользователя число n. Найдите сумму чисел n + nn + nnn. Например, пользователь ввёл число 3. Считаем 3 + 33 + 333 = 369."
   ]
  },
  {
   "cell_type": "code",
   "execution_count": null,
   "id": "f6195a05",
   "metadata": {},
   "outputs": [],
   "source": [
    "n = int(input())\n",
    "nn = n*10+n\n",
    "nnn = nn*10+n\n",
    "\n",
    "res = n+nn+nnn\n",
    "print(res)"
   ]
  },
  {
   "cell_type": "markdown",
   "id": "5c3fd4ff",
   "metadata": {},
   "source": [
    "4. Пользователь вводит целое положительное число. Найдите самую большую цифру в числе. Для решения используйте цикл while и арифметические операции."
   ]
  },
  {
   "cell_type": "code",
   "execution_count": 13,
   "id": "7f91b6ea",
   "metadata": {},
   "outputs": [
    {
     "name": "stdout",
     "output_type": "stream",
     "text": [
      "312\n",
      "3\n"
     ]
    }
   ],
   "source": [
    "n = int(input())\n",
    "max = n % 10\n",
    "while n >= 1:\n",
    "    n = n // 10\n",
    "    if n % 10 > max:\n",
    "        max = n % 10\n",
    "    if n > 9:\n",
    "        continue\n",
    "    else:\n",
    "        print(max)\n",
    "        break"
   ]
  },
  {
   "cell_type": "markdown",
   "id": "7072c118",
   "metadata": {},
   "source": [
    "5. Запросите у пользователя значения выручки и издержек фирмы. Определите, с каким финансовым результатом работает фирма. Например, прибыль — выручка больше издержек, или убыток — издержки больше выручки. Выведите соответствующее сообщение."
   ]
  },
  {
   "cell_type": "code",
   "execution_count": 16,
   "id": "1f7ccca8",
   "metadata": {},
   "outputs": [
    {
     "name": "stdout",
     "output_type": "stream",
     "text": [
      "Введите выручку фирмы 231.23\n",
      "Введите издержки фирмы 2314.1\n",
      "Фирма работает в убыток\n"
     ]
    }
   ],
   "source": [
    "profit = float(input(\"Введите выручку фирмы \"))\n",
    "costs = float(input(\"Введите издержки фирмы \"))\n",
    "if profit > costs:\n",
    "    print(f\"Фирма работает с прибылью. Рентабельность выручки составила {profit / costs:.2f}\")\n",
    "    workers = int(input(\"Введите количество сотрудников фирмы \"))\n",
    "    print(f\"прибыль в расчете на одного сторудника сотавила {profit / workers:.2f}\")\n",
    "elif profit == costs:\n",
    "    print(\"Фирма работает в ноль\")\n",
    "else:\n",
    "    print(\"Фирма работает в убыток\")"
   ]
  },
  {
   "cell_type": "markdown",
   "id": "aabd1ba6",
   "metadata": {},
   "source": [
    "6. Спортсмен занимается ежедневными пробежками. В первый день его результат составил a километров. Каждый день спортсмен увеличивал результат на 10% относительно предыдущего. Требуется определить номер дня, на который результат спортсмена составит не менее b километров. Программа должна принимать значения параметров a и b и выводить одно натуральное число — номер дня."
   ]
  },
  {
   "cell_type": "code",
   "execution_count": 17,
   "id": "463ba572",
   "metadata": {},
   "outputs": [
    {
     "name": "stdout",
     "output_type": "stream",
     "text": [
      "Введите результаты пробежки первого дня в км 3\n",
      "Введите общий желаемый результат в км 4\n",
      "Вы достигнете требуемых показателей на 2 день\n"
     ]
    }
   ],
   "source": [
    "a = int(input(\"Введите результаты пробежки первого дня в км \"))\n",
    "b = int(input(\"Введите общий желаемый результат в км \"))\n",
    "result_days = 1\n",
    "result_km = a\n",
    "while result_km < b:\n",
    "        a = a + 0.1 * a\n",
    "        result_days += 1\n",
    "        result_km = result_km + a\n",
    "print(f\"Вы достигнете требуемых показателей на %.d день\" % result_days)"
   ]
  }
 ],
 "metadata": {
  "kernelspec": {
   "display_name": "Python 3 (ipykernel)",
   "language": "python",
   "name": "python3"
  },
  "language_info": {
   "codemirror_mode": {
    "name": "ipython",
    "version": 3
   },
   "file_extension": ".py",
   "mimetype": "text/x-python",
   "name": "python",
   "nbconvert_exporter": "python",
   "pygments_lexer": "ipython3",
   "version": "3.9.7"
  }
 },
 "nbformat": 4,
 "nbformat_minor": 5
}
